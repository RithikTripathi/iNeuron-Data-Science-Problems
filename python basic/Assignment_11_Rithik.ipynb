{
 "cells": [
  {
   "cell_type": "markdown",
   "id": "9e523639",
   "metadata": {},
   "source": [
    "##### 1. How do you distinguish between shutil.copy() and shutil.copytree()?\n",
    "\n",
    "Solution \n",
    "> `shutil.copy()` : is basically used to automate the process of copying file operations. it takes 2 parameters by default, src and dest where src : source and dest : destination.\n",
    "File being specified with path in src would be copied to the dest path alongwith the name preserved.\n",
    "\n",
    "> `shutil.copytree()` : unlike copying a single file from source, copytree() is used to copy the entire directory from the source specified to the destination file. Theimportant fact here is that the *Destination path should not already exist. It will be created dusing the operation*"
   ]
  },
  {
   "cell_type": "code",
   "execution_count": null,
   "id": "921f5ec8",
   "metadata": {},
   "outputs": [],
   "source": []
  },
  {
   "cell_type": "code",
   "execution_count": null,
   "id": "fbe279eb",
   "metadata": {},
   "outputs": [],
   "source": []
  },
  {
   "cell_type": "markdown",
   "id": "a32bd285",
   "metadata": {},
   "source": [
    "##### 1. Create an assert statement that throws an AssertionError if the variable spam is a negative integer."
   ]
  },
  {
   "cell_type": "code",
   "execution_count": 5,
   "id": "47b6f7e0",
   "metadata": {},
   "outputs": [
    {
     "ename": "AssertionError",
     "evalue": "spam should be a non-negative integer",
     "output_type": "error",
     "traceback": [
      "\u001b[1;31m---------------------------------------------------------------------------\u001b[0m",
      "\u001b[1;31mAssertionError\u001b[0m                            Traceback (most recent call last)",
      "\u001b[1;32m~\\AppData\\Local\\Temp/ipykernel_17072/3633209956.py\u001b[0m in \u001b[0;36m<module>\u001b[1;34m\u001b[0m\n\u001b[0;32m      1\u001b[0m \u001b[0mspam\u001b[0m \u001b[1;33m=\u001b[0m \u001b[1;33m-\u001b[0m\u001b[1;36m1\u001b[0m\u001b[1;33m\u001b[0m\u001b[1;33m\u001b[0m\u001b[0m\n\u001b[0;32m      2\u001b[0m \u001b[1;33m\u001b[0m\u001b[0m\n\u001b[1;32m----> 3\u001b[1;33m \u001b[1;32massert\u001b[0m \u001b[0mspam\u001b[0m \u001b[1;33m>=\u001b[0m \u001b[1;36m0\u001b[0m\u001b[1;33m,\u001b[0m \u001b[1;34m\"spam should be a non-negative integer\"\u001b[0m\u001b[1;33m\u001b[0m\u001b[1;33m\u001b[0m\u001b[0m\n\u001b[0m\u001b[0;32m      4\u001b[0m \u001b[1;33m\u001b[0m\u001b[0m\n\u001b[0;32m      5\u001b[0m \u001b[1;33m\u001b[0m\u001b[0m\n",
      "\u001b[1;31mAssertionError\u001b[0m: spam should be a non-negative integer"
     ]
    }
   ],
   "source": [
    "spam = -1\n",
    "\n",
    "assert spam >= 0, \"spam should be a non-negative integer\"\n",
    "\n",
    "\n",
    "# Throws AssertionError: spam should be a non-negative integer when spam < 0"
   ]
  },
  {
   "cell_type": "markdown",
   "id": "ac1a201d",
   "metadata": {},
   "source": [
    "##### 2. Write an assert statement that triggers an AssertionError if the variables eggs and bacon contain strings that are the same as each other, even if their cases are different (that is, &#39;hello&#39; and &#39;hello&#39; are considered the same, and &#39;goodbye&#39; and &#39;GOODbye&#39; are also considered the same)."
   ]
  },
  {
   "cell_type": "code",
   "execution_count": 10,
   "id": "d992836b",
   "metadata": {},
   "outputs": [
    {
     "ename": "AssertionError",
     "evalue": "Eggs & Bacon can NOT have same strings",
     "output_type": "error",
     "traceback": [
      "\u001b[1;31m---------------------------------------------------------------------------\u001b[0m",
      "\u001b[1;31mAssertionError\u001b[0m                            Traceback (most recent call last)",
      "\u001b[1;32m~\\AppData\\Local\\Temp/ipykernel_17072/747113505.py\u001b[0m in \u001b[0;36m<module>\u001b[1;34m\u001b[0m\n\u001b[0;32m      2\u001b[0m \u001b[0mbacon\u001b[0m \u001b[1;33m=\u001b[0m \u001b[1;34m\"GOODbye\"\u001b[0m\u001b[1;33m\u001b[0m\u001b[1;33m\u001b[0m\u001b[0m\n\u001b[0;32m      3\u001b[0m \u001b[1;33m\u001b[0m\u001b[0m\n\u001b[1;32m----> 4\u001b[1;33m \u001b[1;32massert\u001b[0m \u001b[0mbacon\u001b[0m\u001b[1;33m.\u001b[0m\u001b[0mlower\u001b[0m\u001b[1;33m(\u001b[0m\u001b[1;33m)\u001b[0m \u001b[1;33m!=\u001b[0m \u001b[0meggs\u001b[0m\u001b[1;33m.\u001b[0m\u001b[0mlower\u001b[0m\u001b[1;33m(\u001b[0m\u001b[1;33m)\u001b[0m\u001b[1;33m,\u001b[0m \u001b[1;34m\"Eggs & Bacon can NOT have same strings\"\u001b[0m\u001b[1;33m\u001b[0m\u001b[1;33m\u001b[0m\u001b[0m\n\u001b[0m",
      "\u001b[1;31mAssertionError\u001b[0m: Eggs & Bacon can NOT have same strings"
     ]
    }
   ],
   "source": [
    "eggs = \"goodbye\"\n",
    "bacon = \"GOODbye\"\n",
    "\n",
    "assert bacon.lower() != eggs.lower(), \"Eggs & Bacon can NOT have same strings\""
   ]
  },
  {
   "cell_type": "markdown",
   "id": "ed617d1a",
   "metadata": {},
   "source": [
    "##### 3. Create an assert statement that throws an AssertionError every time."
   ]
  },
  {
   "cell_type": "code",
   "execution_count": 12,
   "id": "c7096d8f",
   "metadata": {},
   "outputs": [
    {
     "ename": "AssertionError",
     "evalue": "Assertion ERROR",
     "output_type": "error",
     "traceback": [
      "\u001b[1;31m---------------------------------------------------------------------------\u001b[0m",
      "\u001b[1;31mAssertionError\u001b[0m                            Traceback (most recent call last)",
      "\u001b[1;32m~\\AppData\\Local\\Temp/ipykernel_17072/3788092200.py\u001b[0m in \u001b[0;36m<module>\u001b[1;34m\u001b[0m\n\u001b[1;32m----> 1\u001b[1;33m \u001b[1;32massert\u001b[0m \u001b[1;32mFalse\u001b[0m\u001b[1;33m,\u001b[0m \u001b[1;34m\"Assertion ERROR\"\u001b[0m\u001b[1;33m\u001b[0m\u001b[1;33m\u001b[0m\u001b[0m\n\u001b[0m",
      "\u001b[1;31mAssertionError\u001b[0m: Assertion ERROR"
     ]
    }
   ],
   "source": [
    "assert False, \"Assertion ERROR\""
   ]
  },
  {
   "cell_type": "markdown",
   "id": "2c40778a",
   "metadata": {},
   "source": [
    "##### 4. What are the two lines that must be present in your software in order to call logging.debug()?\n",
    "\n",
    "Solution:\n",
    "In order to call logging.debug(), mentioned 2 lines are important\n",
    "\n",
    "> `import logging` : so that we can use the debug() from logging module\n",
    "\n",
    "> `logging.basicConfig(level=logging.DEBUG)` : to configure the logging system and set severity level"
   ]
  },
  {
   "cell_type": "markdown",
   "id": "625c2172",
   "metadata": {},
   "source": [
    "##### 5. What are the two lines that your program must have in order to have logging.debug() send a logging message to a file named programLog.txt?\n",
    "\n",
    "Solution:\n",
    "\n",
    "> `import logging` : so that we can use the debug() from logging module\n",
    "\n",
    "> `logging.basicConfig(filename='programLog.txt', level=logging.DEBUG)` : configures the severity level & file name to log"
   ]
  },
  {
   "cell_type": "markdown",
   "id": "5f097b6f",
   "metadata": {},
   "source": [
    "##### 6. What are the five levels of logging?\n",
    "\n",
    "Solution:\n",
    "\n",
    "Python's logging module defines five standard levels of logging that can be used to categorize log messages based on their severity:\n",
    "\n",
    "> DEBUG: Detailed information, typically of interest only when diagnosing problems.\n",
    "\n",
    "> INFO: General information about the program's operation, such as startup messages and status updates.\n",
    "\n",
    "> WARNING: An indication that something unexpected or potentially problematic has happened, or indicative of some problem in the near future.\n",
    "\n",
    "> ERROR: An indication of an error or problem that is likely to cause the program to fail.\n",
    "\n",
    "> CRITICAL: A very severe error or problem that is likely to cause the program to terminate.\n"
   ]
  },
  {
   "cell_type": "markdown",
   "id": "bf5eaf82",
   "metadata": {},
   "source": [
    "##### 7. What line of code would you add to your software to disable all logging messages?\n",
    "\n",
    "Solution : \n",
    "\n",
    "`logging.disable(logging.CRITICAL)` : This sets the global logging level to CRITICAL, which effectively disables all logging messages with severity levels lower than or equal to CRITICAL. Any logging messages with a severity level of CRITICAL or higher will still be logged."
   ]
  },
  {
   "cell_type": "markdown",
   "id": "685816fc",
   "metadata": {},
   "source": [
    "##### 8.Why is using logging messages better than using print() to display the same message?\n",
    "\n",
    "Solution : \n",
    "\n",
    "There are various reasons including : \n",
    "\n",
    "> `Level-based filtering`: The logging module allows  to categorize log messages into different severity levels, such as DEBUG, INFO, WARNING, ERROR, and CRITICAL. This makes it easy to filter messages based on their severity level, which can be useful for debugging and troubleshooting.\n",
    "\n",
    "> `Performance`: In Python, print() statements can be slow and have a performance impact, especially when they are executed frequently. The logging module is designed to be more efficient, and it can be customized to only output messages when necessary.\n",
    "\n",
    "> `Long Term Usability` : Logged messages are stored in files in the local system or server, and we can check them anytime in future to get a instance of previous errors"
   ]
  },
  {
   "cell_type": "markdown",
   "id": "ae0423e1",
   "metadata": {},
   "source": [
    "##### 9. What are the differences between the Step Over, Step In, and Step Out buttons in the debugger?\n",
    "\n",
    "Solution : \n",
    "\n",
    "The Step Over, Step In, and Step Out buttons in a Python debugger are used to control program execution during debugging\n",
    "\n",
    "`Step Over` button executes the current line and moves to the next line, while the `Step In` button steps into a function call and pauses at the first line of the function. The `Step Out` button executes the remaining lines of the current function and returns to the line that called the function."
   ]
  },
  {
   "cell_type": "markdown",
   "id": "f551fd77",
   "metadata": {},
   "source": [
    "##### 10.After you click Continue, when will the debugger stop ?\n",
    "\n",
    "Solution : \n",
    "\n",
    "Reasons of stopping include : \n",
    "\n",
    "> A `breakpoint` is encountered: If you have set a breakpoint in your code, the debugger will stop when it reaches the line of code where the breakpoint is set.\n",
    "\n",
    "> An `exception` is raised: If an unhandled exception is raised during program execution, the debugger will stop on the line of code where the exception occurred.\n",
    "\n",
    "> The `program finishes`: If the program completes execution without encountering a breakpoint or exception, the debugger will not stop until it reaches the end of the program."
   ]
  },
  {
   "cell_type": "markdown",
   "id": "6f4f0ed9",
   "metadata": {},
   "source": [
    "##### 11. What is the concept of a breakpoint?\n",
    "\n",
    "Solution:\n",
    "\n",
    "> Once the breakpoint is set, we can run our program in debug mode and the debugger will pause execution at the line of code where the breakpoint is set. From there, we can use the debugger's tools to inspect variables, step through the code, and diagnose any issues that may be present."
   ]
  },
  {
   "cell_type": "code",
   "execution_count": null,
   "id": "44cac560",
   "metadata": {},
   "outputs": [],
   "source": []
  }
 ],
 "metadata": {
  "kernelspec": {
   "display_name": "Python 3 (ipykernel)",
   "language": "python",
   "name": "python3"
  },
  "language_info": {
   "codemirror_mode": {
    "name": "ipython",
    "version": 3
   },
   "file_extension": ".py",
   "mimetype": "text/x-python",
   "name": "python",
   "nbconvert_exporter": "python",
   "pygments_lexer": "ipython3",
   "version": "3.9.7"
  }
 },
 "nbformat": 4,
 "nbformat_minor": 5
}
