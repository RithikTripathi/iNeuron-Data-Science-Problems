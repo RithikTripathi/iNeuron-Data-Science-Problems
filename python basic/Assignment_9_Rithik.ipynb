{
 "cells": [
  {
   "cell_type": "markdown",
   "id": "9f51c800",
   "metadata": {},
   "source": [
    "##### 1. To what does a relative path refer?\n",
    "\n",
    ">relative path is actually a URL that only contains a portion of the full file path. the complete path is linked to the directly where file is stored\n",
    "\n",
    ">example : \n",
    "            \n",
    "               file a path : desktop\\users\\rithik.tripathi\\ineuron\\fsds\\assignments.ipynb\n",
    "\n",
    "               file b path : desktop\\users\\rithik.tripathi\\ineuron\\mldl\\mlmodel.ipynb\n",
    "               \n",
    "so we could use  **\"...\\fsds\\assignments.ipynb\" or \"...\\mldl\\mlmodel.ipynb\"** as the rest of the file path is same "
   ]
  },
  {
   "cell_type": "code",
   "execution_count": null,
   "id": "d70bb0f9",
   "metadata": {},
   "outputs": [],
   "source": []
  },
  {
   "cell_type": "markdown",
   "id": "374b3d65",
   "metadata": {},
   "source": [
    "##### 2. What does an absolute path start with your operating system?\n",
    "\n",
    ">the absolute path in my windows operating system starts with `C:`"
   ]
  },
  {
   "cell_type": "code",
   "execution_count": null,
   "id": "32ad9f7b",
   "metadata": {},
   "outputs": [],
   "source": []
  },
  {
   "cell_type": "markdown",
   "id": "9a5bad49",
   "metadata": {},
   "source": [
    "#####  3. What do the functions os.getcwd() and os.chdir() do?\n",
    "\n",
    ">os.getcwd() : used to get the location of current working directory\n",
    "\n",
    "whereas\n",
    "\n",
    ">os.chdir() : used to change the current directory to a specified path"
   ]
  },
  {
   "cell_type": "code",
   "execution_count": null,
   "id": "c2451fd3",
   "metadata": {},
   "outputs": [],
   "source": []
  },
  {
   "cell_type": "markdown",
   "id": "02f3bc58",
   "metadata": {},
   "source": [
    "##### 4. What are the . and .. folders?\n",
    "\n",
    "> `.` represents the current directory whereas `..` represents the parent directory\n",
    "\n",
    ">example : if this is my path => c\\users\\rithik.tripathi\\ineuron\\fsds.ipynb\n",
    "\n",
    "    then . represents : c\\users\\rithik.tripathi\\ineuron\\fsds.ipynb\n",
    "    whereas .. represents : c\\users\\rithik.tripathi\\ineuron"
   ]
  },
  {
   "cell_type": "code",
   "execution_count": null,
   "id": "6833fa8f",
   "metadata": {},
   "outputs": [],
   "source": []
  },
  {
   "cell_type": "markdown",
   "id": "31819826",
   "metadata": {},
   "source": [
    "##### 5. In C:\\bacon\\eggs\\spam.txt, which part is the dir name, and which part is the base name?\n",
    "\n",
    "> dir name : C:\\bacon\\eggs\n",
    "\n",
    "> base name: spam.txt"
   ]
  },
  {
   "cell_type": "code",
   "execution_count": null,
   "id": "5628d35b",
   "metadata": {},
   "outputs": [],
   "source": []
  },
  {
   "cell_type": "markdown",
   "id": "aaaa0c0d",
   "metadata": {},
   "source": [
    "##### 6. What are the three “mode” arguments that can be passed to the open() function?\n",
    "\n",
    "> open() is used in python to open a file, it has 2 parameters : syntax =  open(filename, mode ) \n",
    "\n",
    "    mode is read by default\n",
    "    \n",
    "    3 different modes are : \n",
    "    \n",
    "    * `r` : file is opened in read only mode\n",
    "    * `w` : file is opened in write mode, if file dosent exist, one will be created\n",
    "    * `a` : opening file for writing without replacing any content in the file, appending at the end of the file\n",
    "    \n",
    "    "
   ]
  },
  {
   "cell_type": "code",
   "execution_count": null,
   "id": "0c4d5994",
   "metadata": {},
   "outputs": [],
   "source": []
  },
  {
   "cell_type": "markdown",
   "id": "042095ec",
   "metadata": {},
   "source": [
    "##### 7. What happens if an existing file is opened in write mode?\n",
    "\n",
    ">if an existing file is opened in write mode, all the contents in the file would be overwrited"
   ]
  },
  {
   "cell_type": "code",
   "execution_count": null,
   "id": "7e956e7f",
   "metadata": {},
   "outputs": [],
   "source": []
  },
  {
   "cell_type": "markdown",
   "id": "00d477e2",
   "metadata": {},
   "source": [
    "##### 8. How do you tell the difference between read() and readlines()?\n",
    "\n",
    "> read() would first read the whole file and then return the lines which matches the number of bytes specified by you\n",
    "\n",
    "whereas\n",
    "\n",
    "> readline() directly reads the first characters that matches the number of bytes specified by you without reading the whole file"
   ]
  },
  {
   "cell_type": "code",
   "execution_count": null,
   "id": "8796c25e",
   "metadata": {},
   "outputs": [],
   "source": []
  },
  {
   "cell_type": "markdown",
   "id": "6bc7310f",
   "metadata": {},
   "source": [
    "##### 9. What data structure does a shelf value resemble?\n",
    "\n",
    "> simply works as a python dictionary consisting of key value pairs"
   ]
  }
 ],
 "metadata": {
  "kernelspec": {
   "display_name": "Python 3 (ipykernel)",
   "language": "python",
   "name": "python3"
  },
  "language_info": {
   "codemirror_mode": {
    "name": "ipython",
    "version": 3
   },
   "file_extension": ".py",
   "mimetype": "text/x-python",
   "name": "python",
   "nbconvert_exporter": "python",
   "pygments_lexer": "ipython3",
   "version": "3.7.7"
  }
 },
 "nbformat": 4,
 "nbformat_minor": 5
}
