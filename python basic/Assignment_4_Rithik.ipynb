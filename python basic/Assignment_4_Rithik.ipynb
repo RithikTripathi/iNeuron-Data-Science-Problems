{
 "cells": [
  {
   "cell_type": "markdown",
   "id": "5b135e37",
   "metadata": {},
   "source": [
    "##### Question 1. What exactly is [] ?\n",
    "\n",
    "Solution : [] indicates a empty list. when we put any elements inside such square brackets, they are considered as a list data structure.\n"
   ]
  },
  {
   "cell_type": "markdown",
   "id": "4c9f7184",
   "metadata": {},
   "source": [
    "##### 2. In a list of values stored in a variable called spam, how would you assign the value hello as the third value? (Assume [2, 4, 6, 8, 10] are in spam.)\n",
    "\n",
    "Solution :\n",
    "             \n",
    "           spam[2] = 'hello'\n",
    "           \n",
    "                  as index starts from 0, 3rd position will be logically 2nd and as hello is a                     string, it will be in ' '"
   ]
  },
  {
   "cell_type": "markdown",
   "id": "b971c6a7",
   "metadata": {},
   "source": [
    "### Let's pretend the spam includes the list ['a', 'b', 'c', 'd'] for the next three queries."
   ]
  },
  {
   "cell_type": "markdown",
   "id": "47eb96c6",
   "metadata": {},
   "source": [
    "##### 3. What is the value of spam[int(int('3' * 2) / 11)]?\n",
    "\n",
    "Solution : 'd'\n",
    "\n",
    "    as '3' denoted a string, '3'*2 will be 2 times 3 => '33' \n",
    "    then int('33') = 33\n",
    "    then 33/11 = 3\n",
    "    then spam[3] = d"
   ]
  },
  {
   "cell_type": "markdown",
   "id": "223b478e",
   "metadata": {},
   "source": [
    "##### 4. What is the value of spam[-1]?\n",
    "\n",
    "Solution : 'd'\n",
    "\n",
    "    as negatives indexes deonte the count from the end of the list ( starting from -1)"
   ]
  },
  {
   "cell_type": "markdown",
   "id": "3aa12e24",
   "metadata": {},
   "source": [
    "##### 5. What is the value of spam[:2]?\n",
    "\n",
    "Solution : 'a' , 'b'\n",
    "\n",
    "    as [:2] have starting = 0 (default) and end = 2 (excluding 2) \n",
    "    => 0 to 1 = a & b"
   ]
  },
  {
   "cell_type": "markdown",
   "id": "7c4287b3",
   "metadata": {},
   "source": [
    "### Let's pretend bacon has the list [3.14, 'cat,' 11, 'cat,' True] for the next three questions.\n"
   ]
  },
  {
   "cell_type": "markdown",
   "id": "fc8e605f",
   "metadata": {},
   "source": [
    "#### 6. What is the value of bacon.index('cat')?\n",
    "\n",
    "Solution : 1"
   ]
  },
  {
   "cell_type": "markdown",
   "id": "5653cc1c",
   "metadata": {},
   "source": [
    "#### 7. How does bacon.append(99) change the look of the list value in bacon?\n",
    "\n",
    "Solution : bacon.append(99) will add integer 99 at the end of the list\n",
    "\n",
    "    before : bacon = [3.14, 'cat', 11, 'cat', True]\n",
    "    after  : bacon = [3.14, 'cat', 11, 'cat', True, 99]"
   ]
  },
  {
   "cell_type": "markdown",
   "id": "34a7fe15",
   "metadata": {},
   "source": [
    "#### 8. How does bacon.remove('cat') change the look of the list in bacon?\n",
    "\n",
    "Solution : bacon.remove('cat') will start searching from index 0 and will remove 'cat' ar index 1\n",
    "\n",
    "    before : bacon = [3.14, 'cat', 11, 'cat', True]\n",
    "    after  : bacon = [3.14, 11, 'cat', True]"
   ]
  },
  {
   "cell_type": "markdown",
   "id": "32c0e99e",
   "metadata": {},
   "source": [
    "##### 9. What are the list concatenation and list replication operators?\n",
    "\n",
    "Solution : list concatination operator => +, list replication operator => *\n",
    "\n",
    "\n",
    "    x = [1,2,3]\n",
    "    y = [4,5,6]\n",
    "    \n",
    "    to concatinate both lists, a+b \n",
    "        x+y = [1,2,3,4,5,6]\n",
    "        \n",
    "       \n",
    "    to replicate a list, *\n",
    "        x*3 which will replicate list x 3 times\n",
    "        \n",
    "        x*3 = [1,2,3,1,2,3,1,2,3]"
   ]
  },
  {
   "cell_type": "markdown",
   "id": "721f1e35",
   "metadata": {},
   "source": [
    "##### 10. What is difference between the list methods append() and insert()?\n",
    "\n",
    "Solution : append() appends an element at the end of the list, it takes exactly 1 argument\n",
    "\n",
    "insert() is used to insert an element at a particular index, it takes 2 elements, index & element\n",
    "\n",
    "    x = [1,2,3]\n",
    "    x.append(99) \n",
    "    => x = [1,2,3,99]\n",
    "    \n",
    "    y = [1,2,3]\n",
    "    y.insert(1,99)\n",
    "    => y = [1,99,2,3]"
   ]
  },
  {
   "cell_type": "markdown",
   "id": "8c230e29",
   "metadata": {},
   "source": [
    "##### 11. What are the two methods for removing items from a list?\n",
    "\n",
    "Solution : The methods for removing elements from a list are mentioned below.\n",
    "\n",
    "    1. clear() => used to remove all elements from the list\n",
    "        x = [1,2,3,4,5]\n",
    "        x.clear() \n",
    "        => x = [] i.e empty list\n",
    "     \n",
    "    2. remove() =>  removed the first occurence of the argument passed.\n",
    "        x = [1,2,3,1,5,6,7,8,1,1]\n",
    "        x.remove(1)\n",
    "        => x = [2,3,1,5,6,7,8,1,1]\n",
    "      \n",
    "    3. pop() => by default it removes the last element of the list, and if the index is mentioned, it removes and returns the deleted element\n",
    "        x = [1,2,3,4,5]\n",
    "        x.pop()\n",
    "        => x = [1,2,3,4]\n",
    "        \n",
    "        x.pop(1)\n",
    "        => x = [1,3,4]\n",
    "        i.e removes element from index 1\n",
    "        \n",
    "    "
   ]
  },
  {
   "cell_type": "markdown",
   "id": "21153040",
   "metadata": {},
   "source": [
    "##### 12. Describe how list values and string values are identical.\n",
    "\n",
    "Solution : The similarities b/w list and string are :\n",
    "\n",
    "    Both values can be concatinated and replicated\n",
    "    functions like len() could be used to calculate length of the data structure\n",
    "    Both could be iterated over using loops like for, while "
   ]
  },
  {
   "cell_type": "markdown",
   "id": "1bf2cc5b",
   "metadata": {},
   "source": [
    "##### 13. What's the difference between tuples and lists?\n",
    "\n",
    "Solution : \n",
    "    \n",
    "    . List are mutable whereas Tuples are not.\n",
    "    . List are denoted with [ ] whereas Tuples are denoted with ( )\n",
    "    . List take more memory whiiel creation whereas Tuples do not"
   ]
  },
  {
   "cell_type": "markdown",
   "id": "07653bec",
   "metadata": {},
   "source": [
    "##### 14. How do you type a tuple value that only contains the integer 42?\n",
    "\n",
    "Solution : tup = (42,)\n",
    "\n",
    "    if we use tup = (42) this would be rather considered as an integer\n",
    "    so to make it a tuple, we neeed to put a trailing ,"
   ]
  },
  {
   "cell_type": "markdown",
   "id": "61bce503",
   "metadata": {},
   "source": [
    "##### 15. How do you get a list value's tuple form? How do you get a tuple value's list form?\n",
    "\n",
    "Solution : list() and tuple() can be respectively used.\n",
    "\n",
    "    Example : \n",
    "        x = [1,2,3,4,5]\n",
    "        y = (6,7,8,9,0)\n",
    "        \n",
    "        xtuple = tuple(x)\n",
    "        yList = list(y)"
   ]
  },
  {
   "cell_type": "markdown",
   "id": "036e2466",
   "metadata": {},
   "source": [
    "##### 16. Variables that \"contain\" list values are not necessarily lists themselves. Instead, what do they contain?\n",
    "\n",
    "Solution : variables containing list have references of the list\n",
    "    \n",
    "    i.e, in python, whenever we try to store any data type which is mutable, python stores the reference of that entity in the variable. eg : for lists, dictionary, etc\n",
    "    \n",
    "    example : \n",
    "        x = [0,0,0,0,0,0,0]\n",
    "        y = x   #assigning list x to y\n",
    "        y[0] = 99999\n",
    "        \n",
    "        when we check value of y and x, both will be changed now, i.e [99999, 0,0,0,0,0,0]"
   ]
  },
  {
   "cell_type": "markdown",
   "id": "04cbe0a5",
   "metadata": {},
   "source": [
    "##### 17. How do you distinguish between copy.copy() and copy.deepcopy()?\n",
    "\n",
    "Solution :\n",
    "    \n",
    "    Shallow Copy : \n",
    "        when we use shallow copy, a new variable is created but it refers to the same memory location of the variable which was copied to it, and hence if any changes are made from any of the variables, the same would be reflecting back to another variable as well\n",
    "        \n",
    "    Deep Copy : \n",
    "        when we use deep copy, again a new variable is created, but unlike shallow copy, here each element is copied into a new memory location and hence both now store values at different location , as a result when we make any changes in one variable, it dosen't affects another."
   ]
  }
 ],
 "metadata": {
  "kernelspec": {
   "display_name": "Python 3 (ipykernel)",
   "language": "python",
   "name": "python3"
  },
  "language_info": {
   "codemirror_mode": {
    "name": "ipython",
    "version": 3
   },
   "file_extension": ".py",
   "mimetype": "text/x-python",
   "name": "python",
   "nbconvert_exporter": "python",
   "pygments_lexer": "ipython3",
   "version": "3.7.7"
  }
 },
 "nbformat": 4,
 "nbformat_minor": 5
}
