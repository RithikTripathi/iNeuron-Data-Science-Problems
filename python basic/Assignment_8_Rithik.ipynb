{
 "cells": [
  {
   "cell_type": "markdown",
   "id": "fda5dfb0",
   "metadata": {},
   "source": [
    "1. Is the Python Standard Library included with PyInputPlus?\n",
    "\n",
    ">No ! PyInplutPlus is not included in Python Standard Library. It needs to be separately installed by **pip install PyInputPlus**"
   ]
  },
  {
   "cell_type": "code",
   "execution_count": null,
   "id": "f64be035",
   "metadata": {},
   "outputs": [],
   "source": []
  },
  {
   "cell_type": "markdown",
   "id": "fa12f973",
   "metadata": {},
   "source": [
    "2. Why is PyInputPlus commonly imported with import pyinputplus as pypi?\n",
    "\n",
    "\n",
    "\n",
    ">We are basically provinding pyinputplus an `alias` name as pypi, so that rather using pyinput plus in future to access any of its functions, we can simply use pypi "
   ]
  },
  {
   "cell_type": "code",
   "execution_count": null,
   "id": "3f66b4d2",
   "metadata": {},
   "outputs": [],
   "source": []
  },
  {
   "cell_type": "markdown",
   "id": "5d69005e",
   "metadata": {},
   "source": [
    "3. How do you distinguish between inputInt() and inputFloat()?\n",
    "\n",
    ">inputInt() function is used to take an Integer input only whereas\n",
    "\n",
    ">inputFloat() is used to take an Floating Point input only"
   ]
  },
  {
   "cell_type": "code",
   "execution_count": null,
   "id": "bf303025",
   "metadata": {},
   "outputs": [],
   "source": []
  },
  {
   "cell_type": "markdown",
   "id": "a33c34cf",
   "metadata": {},
   "source": [
    "4. Using PyInputPlus, how do you ensure that the user enters a whole number between 0 and 99?\n",
    "\n",
    "> PyInputPlus has a inbuilt function `inputInt()` which considers to take input as Integer only.\n",
    ">> to ensure that user enters number between 0 to 99, we could use `min & max` parameters of inputInt()\n",
    "\n",
    "\n",
    "`import pyinputplus as pyip\n",
    " wholeNumber = pyip.inputInt(prompt='Please Enter a Number: ', min=0, max=100)\n",
    " print(wholeNumber)`"
   ]
  },
  {
   "cell_type": "code",
   "execution_count": null,
   "id": "3dd96eef",
   "metadata": {},
   "outputs": [],
   "source": []
  },
  {
   "cell_type": "markdown",
   "id": "abf28e6a",
   "metadata": {},
   "source": [
    "5. What is transferred to the keyword arguments allowRegexes and blockRegexes?\n",
    "\n",
    ">allowRegexes takes input of list of regular expressions such to determine what would be `considered` as a valid input\n",
    "\n",
    ">blockRegexes takes input of list of regular expressiona such to determins what should `not be considered` as a valid input and reject"
   ]
  },
  {
   "cell_type": "code",
   "execution_count": null,
   "id": "ecd1c2e0",
   "metadata": {},
   "outputs": [],
   "source": []
  },
  {
   "cell_type": "markdown",
   "id": "85a1f2ba",
   "metadata": {},
   "source": [
    "6. If a blank input is entered three times, what does inputStr(limit=3) do?\n",
    "\n",
    ">inputStr(limit=3) we will be getting 2 exceptions \n",
    ">>1. ValidiationException : as inputStr() dosen't allows spaces by default, in order to do so , we can use parameter blank=True to accept that resonse\n",
    ">>2.LimitException : sa we set limit=3, this exception occured as we have reached the max limits allowed"
   ]
  },
  {
   "cell_type": "code",
   "execution_count": null,
   "id": "cf7ba21f",
   "metadata": {},
   "outputs": [],
   "source": []
  },
  {
   "cell_type": "markdown",
   "id": "fe1bd4b9",
   "metadata": {},
   "source": [
    "7. If blank input is entered three times, what does inputStr(limit=3, default='hello') do\n",
    "\n",
    ">tough LimitException is there, but since we have already specified default='hello', instead raising the exception, 'hello' would be returned\n"
   ]
  },
  {
   "cell_type": "code",
   "execution_count": null,
   "id": "a39074f0",
   "metadata": {},
   "outputs": [],
   "source": []
  }
 ],
 "metadata": {
  "kernelspec": {
   "display_name": "Python 3 (ipykernel)",
   "language": "python",
   "name": "python3"
  },
  "language_info": {
   "codemirror_mode": {
    "name": "ipython",
    "version": 3
   },
   "file_extension": ".py",
   "mimetype": "text/x-python",
   "name": "python",
   "nbconvert_exporter": "python",
   "pygments_lexer": "ipython3",
   "version": "3.7.7"
  }
 },
 "nbformat": 4,
 "nbformat_minor": 5
}
