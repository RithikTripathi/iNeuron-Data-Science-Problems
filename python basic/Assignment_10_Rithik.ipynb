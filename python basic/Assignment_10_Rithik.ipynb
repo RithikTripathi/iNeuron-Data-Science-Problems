{
 "cells": [
  {
   "cell_type": "markdown",
   "id": "9c440ed8",
   "metadata": {},
   "source": [
    "##### 1. How do you distinguish between shutil.copy() and shutil.copytree()?\n",
    "\n",
    "Solution \n",
    "> `shutil.copy()` : is basically used to automate the process of copying file operations. it takes 2 parameters by default, src and dest where src : source and dest : destination.\n",
    "File being specified with path in src would be copied to the dest path alongwith the name preserved.\n",
    "\n",
    "> `shutil.copytree()` : unlike copying a single file from source, copytree() is used to copy the entire directory from the source specified to the destination file. Theimportant fact here is that the *Destination path should not already exist. It will be created dusing the operation*"
   ]
  },
  {
   "cell_type": "markdown",
   "id": "2844cd6b",
   "metadata": {},
   "source": [
    "##### 2. What function is used to rename files ?\n",
    "Solution\n",
    "\n",
    "> `os.rename()` taking 2 arguments as the name of the file which is to be renamed and the new name"
   ]
  },
  {
   "cell_type": "markdown",
   "id": "895260c0",
   "metadata": {},
   "source": [
    "##### 3. What is the difference between the delete functions in the send2trash and shutil modules?\n",
    "Solution\n",
    "\n",
    ">  `send2trash.send2trash()` function is used to delete and further sent the files into **trash folder**\n",
    "\n",
    "whereas\n",
    "\n",
    "> `shutil.rmtree()` function *permanently detetes* the files"
   ]
  },
  {
   "cell_type": "markdown",
   "id": "ec125648",
   "metadata": {},
   "source": [
    "##### 4.ZipFile objects have a close() method just like File objects’ close() method. What ZipFile method is\n",
    "##### equivalent to File objects’ open() method?\n",
    "\n",
    "> similar to file open(), zipfile.ZipFile() is the equivalent which takes 2 arguments by default, name of the file and mode.\n",
    "\n",
    "eg: zipfile.ZipFile('filename', mode = 'r')"
   ]
  },
  {
   "cell_type": "markdown",
   "id": "ae7f1f98",
   "metadata": {},
   "source": [
    "##### 5. Create a programme that searches a folder tree for files with a certain file extension (such as .pdf\n",
    "##### or .jpg). Copy these files from whatever location they are in to a new folder.\n"
   ]
  },
  {
   "cell_type": "code",
   "execution_count": 1,
   "id": "2d808f03",
   "metadata": {},
   "outputs": [],
   "source": [
    "import os\n",
    "import shutil\n",
    "\n",
    "def search_and_copy(source,destination,extensions):\n",
    "    source = os.path.abspath(source)\n",
    "    destination = os.path.abspath(destination)\n",
    "    for foldername, subfolder, filenames in os.walk(source):\n",
    "        print(f'Folder Name ➞ {foldername}',end='\\n\\n')\n",
    "        print(f'Sub Folders ➞ {subfolder}',end='\\n\\n')\n",
    "        print(f'Files ➞ {filenames}',end='\\n\\n')\n",
    "        for filename in filenames:\n",
    "            fileName,extension = os.path.splitext(filename)\n",
    "            if extension in extensions:\n",
    "                targetFile = foldername+os.path.sep+fileName+extension\n",
    "                shutil.copy(targetFile, destination)\n",
    "        print(f'Files copied successfully from {source} to {destination}')\n",
    "    \n",
    "extensions = ['.pdf','.jpg','.ipynb']\n",
    "source = 'Dummy Source'\n",
    "destination = 'Dummy Destination'\n",
    "search_and_copy(source, destination, extensions)"
   ]
  },
  {
   "cell_type": "code",
   "execution_count": null,
   "id": "dd68239a",
   "metadata": {},
   "outputs": [],
   "source": []
  }
 ],
 "metadata": {
  "kernelspec": {
   "display_name": "Python 3 (ipykernel)",
   "language": "python",
   "name": "python3"
  },
  "language_info": {
   "codemirror_mode": {
    "name": "ipython",
    "version": 3
   },
   "file_extension": ".py",
   "mimetype": "text/x-python",
   "name": "python",
   "nbconvert_exporter": "python",
   "pygments_lexer": "ipython3",
   "version": "3.7.7"
  }
 },
 "nbformat": 4,
 "nbformat_minor": 5
}
