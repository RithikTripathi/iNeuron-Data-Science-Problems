{
 "cells": [
  {
   "cell_type": "markdown",
   "id": "a026f256",
   "metadata": {},
   "source": [
    "### Name :  Rithik Kant Tripathi"
   ]
  },
  {
   "cell_type": "markdown",
   "id": "177e01f0",
   "metadata": {},
   "source": [
    "##### Question 1. In the below elements which of them are values or an expression? eg:- values can be integer or string and expressions will be mathematical operators.\n",
    "\n",
    "Solution : \n",
    "\n",
    "        *              expression\t\t\n",
    "     'hello'             value\n",
    "      -87.8\t          value\n",
    "        - \t           expression\n",
    "        / \t           expression\n",
    "        •\t             value\n",
    "        6                value\n"
   ]
  },
  {
   "cell_type": "markdown",
   "id": "ae353105",
   "metadata": {},
   "source": [
    "##### Question 2. What is the difference between string and variable?\n",
    "\n",
    "Solution : \n",
    "=>\tString is a value representing text, special character or a combination of alphabets and         numbers whereas Variable is a name that refers or holds some value.\n",
    "\n",
    "=>\ta String is enclosed within “ “ (single or double )\n",
    "     \t\n",
    "        example => \n",
    "            x = “iNeuron is simply awesome”\n",
    "            here x is a variable and the value which it is holding is a string\n",
    "            \n",
    "\n",
    "=>\ta Variable holds a value whereas anything coming between “ ” or ‘ ’ would be considered as a     string and their working are different.\n",
    "        Explanation : \n",
    "            \n",
    "            x = 2\n",
    "            y = 100\n",
    "            print( x * y )\n",
    "\n",
    "        output => 200   (i.e. multiplication of values )\n",
    "\n",
    "    but,\n",
    "\n",
    "            x = “2”\n",
    "            y = “100”\n",
    "            print( x+y )\n",
    "\n",
    "        output => 2100  (concatenation of strings )\n"
   ]
  },
  {
   "cell_type": "markdown",
   "id": "7f369628",
   "metadata": {},
   "source": [
    "##### Question 3. Describe three different data types.\n",
    "\n",
    "Solution : \n",
    "1.\tInteger : int : used to hold integer values. Eg . 12, 3, 92, 100 \n",
    "2.\tFloating- point : float : used to hold decimal values . Eg . 12.23, 99.62, 100.3\n",
    "3.\tString : used to hold any text / special characters / numbers Eg. “ I have 9 apples “\n"
   ]
  },
  {
   "cell_type": "markdown",
   "id": "69493c33",
   "metadata": {},
   "source": [
    "##### Question 4. What is an expression made up of? What do all expressions do?\n",
    "\n",
    "Solution: \n",
    "An expression is a combination of 2 components: operator and operands.\n",
    "\n",
    "Role of an expression is to produce a logical output from the given input.\n",
    "\n",
    "    example: (x + y), (x * y), (x and y), (x or y), (x > y)\n"
   ]
  },
  {
   "cell_type": "markdown",
   "id": "a242ea90",
   "metadata": {},
   "source": [
    "##### 5. This assignment statements, like spam = 10. What is the difference between an expression and a    statement? \n",
    "\n",
    "Solution:\n",
    "\n",
    "Expression is that entity in code which results finally into some value, whereas\n",
    "\n",
    "Statement simply represent a command given and does not return any value\n",
    "\n",
    "    Example : Expression => 8 + 2  ,  for i in range(0,20,2) :  print I \n",
    "              Statement => print(x)  ,  x = 10  ,  pass\n"
   ]
  },
  {
   "cell_type": "markdown",
   "id": "e70ad5cf",
   "metadata": {},
   "source": [
    "##### Question 6. After running the following code, what does the variable bacon contain?\n",
    "bacon = 22\n",
    "bacon + 1\n",
    "\n",
    "solution : \n",
    "    bacon = 22\n",
    "            \n",
    "            explanation  :  as bacon here is a variable holding an integer 22, bacon + 1 will                                 surely print the value as 23, but it does not assigns the value back                             to bacon, so there are no changes in its value.\n"
   ]
  },
  {
   "cell_type": "markdown",
   "id": "e9d0cf9b",
   "metadata": {},
   "source": [
    "##### Question 7. What should the values of the following two terms be?\n",
    "\n",
    "'spam' + 'spamspam'\n",
    "\n",
    "'spam' * 3\n",
    "\n",
    "Solution : \n",
    "\n",
    "    'spam' + 'spamspam'  =  spamspamspam             =>  string concatenation\n",
    "\n",
    "    'spam' * 3  =  spamspamspam                      => printing a string 3 times\n",
    "\n",
    "\n"
   ]
  },
  {
   "cell_type": "markdown",
   "id": "3bfacc8c",
   "metadata": {},
   "source": [
    "##### Question 8. Why is eggs a valid variable name while 100 is invalid?\n",
    "\n",
    "Solution : 100 is not a valid variable name because python has some rules for variable name                  declaration which states that a variable name must start either with a letter or an              underscore and can not start with a number.\n"
   ]
  },
  {
   "cell_type": "markdown",
   "id": "e0305f73",
   "metadata": {},
   "source": [
    "##### Question 9. What three functions can be used to get the integer, floating-point number, or string             version of a value?\n",
    "\n",
    "    Solution : \n",
    "           integer => int()\n",
    "           Floating point => float ()\n",
    "\t       String = str()\n"
   ]
  },
  {
   "cell_type": "markdown",
   "id": "1ec67fb5",
   "metadata": {},
   "source": [
    "##### Question 10. Why does this expression cause an error? How can you fix it?\n",
    "'I have eaten ' + 99 + ' burritos.'\n",
    "\n",
    "Solution : \n",
    "\n",
    "expression is throwing an error because only string can be concatenated with strings and since 99 here is an integer, it is throwing error.\n",
    "\n",
    "    To fix the error : \n",
    "        Method 1 => consider 99 as a string directly\n",
    "                   'I have eaten ' + ‘99’ + ' burritos.'\n",
    "        Method 2 => typecast 99 into a string\n",
    "\t               'I have eaten ' + str(99) + ' burritos.'\n"
   ]
  }
 ],
 "metadata": {
  "kernelspec": {
   "display_name": "Python 3 (ipykernel)",
   "language": "python",
   "name": "python3"
  },
  "language_info": {
   "codemirror_mode": {
    "name": "ipython",
    "version": 3
   },
   "file_extension": ".py",
   "mimetype": "text/x-python",
   "name": "python",
   "nbconvert_exporter": "python",
   "pygments_lexer": "ipython3",
   "version": "3.7.7"
  }
 },
 "nbformat": 4,
 "nbformat_minor": 5
}
