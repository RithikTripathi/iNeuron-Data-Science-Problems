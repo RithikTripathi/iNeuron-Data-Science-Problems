{
 "cells": [
  {
   "cell_type": "markdown",
   "id": "a34895bc",
   "metadata": {},
   "source": [
    "### Name : Rithik Kant Tripathi"
   ]
  },
  {
   "cell_type": "markdown",
   "id": "52b2680d",
   "metadata": {},
   "source": [
    "##### Question 1 :  Why are functions advantageous to have in your programs?\n",
    "\n",
    "Solution : There are several advantages of using a finction in program mentioned below:\n",
    "\n",
    "    1.Reusability : Instead writing same block of code at multiple places, one can use a               function to simplyfy the task.\n",
    "    2. Readibility : functions make program more readable and appear less complex.\n",
    "    3. Updates : If a finction is called multiple places an we need to make changes and update          it, we can simply do in function body and it's done for all calls, which is not possible          without functions.\n",
    "    "
   ]
  },
  {
   "cell_type": "markdown",
   "id": "48eb0f0c",
   "metadata": {},
   "source": [
    "##### Question 2 : When does the code in a function run: when it's specified or when it's called?\n",
    "\n",
    "Solution : Function could have 2 parts : Function Definition & Function Call\n",
    "    So basically code written inside a function runs only once it is called somewhere in program.\n",
    "    "
   ]
  },
  {
   "cell_type": "markdown",
   "id": "e8f744d9",
   "metadata": {},
   "source": [
    "##### Question 3 : What statement creates a function ?\n",
    "\n",
    "Solution : ' def ' keyword is used to create a function.\n",
    "\n",
    "    example : def test1() :\n",
    "                return pass\n"
   ]
  },
  {
   "cell_type": "markdown",
   "id": "7255e3bb",
   "metadata": {},
   "source": [
    "##### Question 4 : What is the difference between a function and a function call ?\n",
    "\n",
    "Solution : \n",
    "\n",
    "Function is basically that block of a program where it's defined and coded for its                functionality, but not executed, it's defined with a 'def' keyword.\n",
    "           \n",
    "whereas Function call is that block where the defined function is executed. It is                called using the name of the functions and passing arguments if defined.\n",
    " \n",
    "     example : \n",
    "             def test2() : \n",
    "                 print('this is a function named test2')\n",
    "                 \n",
    "             test2()\n",
    "             # this is function call"
   ]
  },
  {
   "cell_type": "markdown",
   "id": "f69ac0e4",
   "metadata": {},
   "source": [
    "##### Question 5 : How many global scopes are there in a Python program? How many local scopes ?\n",
    "\n",
    "Solution :\n",
    "\n",
    "If a variable is not declared inside a function or inside a particular indent, it is a            global variable and hence there is one global scope.\n",
    "\n",
    "           variables declared inside a function or a indent is in a local scope.\n",
    "           \n",
    "    example : \n",
    "                    x = 1000 \n",
    "                    # global \n",
    "                   \n",
    "                    def test3() :\n",
    "                        x = 176\n",
    "                        # local scope\n",
    "                        print('value of x = \", x)\n",
    "                    \n",
    "                    for i in range(1,100,10):\n",
    "                        print(i)\n",
    "                    # local scope\n",
    " "
   ]
  },
  {
   "cell_type": "markdown",
   "id": "e70d89de",
   "metadata": {},
   "source": [
    "##### Question 6 : What happens to variables in a local scope when the function call returns ?\n",
    "\n",
    "Solution : As soon as the function call returns, all the local variables are removed from the                memory and hence are deleted."
   ]
  },
  {
   "cell_type": "markdown",
   "id": "6330d45e",
   "metadata": {},
   "source": [
    "##### Question 7 : What is the concept of a return value? Is it possible to have a return value in an                expression ?\n",
    "\n",
    "Solution : \n",
    "\n",
    "1. return value is basically result of all the operations inside a function or a block              and a command which says to send back toe flow of execution to that place of code                where the return statement is returning to .\n",
    "\n",
    "      example : \n",
    "                  def test4( x ) :\n",
    "                      if x < 10:\n",
    "                          return 10\n",
    "                      else:\n",
    "                          return 100\n",
    "                          \n",
    "                  # so here return is basically sending back a value and flow of program to the                       place where test4() is called\n",
    "                  \n",
    "           2. Yes. A return value can be an expression.\n",
    "           \n",
    "     example:\n",
    "                 def test5( y ):\n",
    "                     if y < 10:\n",
    "                         return (y**2) + 100 + (2*10*y)\n",
    "                     else : \n",
    "                         return (y**2) + 100 - (2*10*y)\n",
    "                         "
   ]
  },
  {
   "cell_type": "markdown",
   "id": "69d04ae8",
   "metadata": {},
   "source": [
    "##### Question 8 : If a function does not have a return statement, what is the return value of a call                to that function?\n",
    "\n",
    "Solution : If a function dosen't returns anything, the return value is simple none / undefined."
   ]
  },
  {
   "cell_type": "markdown",
   "id": "71fef8ea",
   "metadata": {},
   "source": [
    "##### Question 9 : How do you make a function variable refer to the global variable?\n",
    "\n",
    "Solution : if a variable inside a glbal and local scope have same name, keyword 'global' could be            used to call the global variable inside a local scope.\n",
    "\n",
    "    example : \n",
    "                   x = 100\n",
    "\n",
    "                   def test():\n",
    "                        global x\n",
    "                        if x < 500 :\n",
    "                        x = 1000\n",
    "               "
   ]
  },
  {
   "cell_type": "markdown",
   "id": "4a1adf7d",
   "metadata": {},
   "source": [
    "##### Question 10 :  What is the data type of None?\n",
    "    \n",
    "Solution : data type of None is 'NoneType'"
   ]
  },
  {
   "cell_type": "code",
   "execution_count": 1,
   "id": "63590b30",
   "metadata": {},
   "outputs": [
    {
     "data": {
      "text/plain": [
       "NoneType"
      ]
     },
     "execution_count": 1,
     "metadata": {},
     "output_type": "execute_result"
    }
   ],
   "source": [
    "type(None)"
   ]
  },
  {
   "cell_type": "markdown",
   "id": "58bcf101",
   "metadata": {},
   "source": [
    "##### Question 11 : What does the sentence import areallyourpetsnamederic do?\n",
    "\n",
    "Solution : import areallyourpetsnamederic command will import the library from python named \n",
    "           'areallyourpetsnamederic' if available.\n"
   ]
  },
  {
   "cell_type": "markdown",
   "id": "60665c13",
   "metadata": {},
   "source": [
    "##### Question 12 : If you had a bacon() feature in a spam module, what would you call it after                       importing spam?\n",
    "\n",
    "Solution : if we need to call a function named bacon() from a module spam, we could call it by:\n",
    "           spam.bacon() \n",
    "           \n",
    "           i.e module_name . feature_name()\n",
    "           "
   ]
  },
  {
   "cell_type": "markdown",
   "id": "6ea8c2d3",
   "metadata": {},
   "source": [
    "##### Question 13 : What can you do to save a programme from crashing if it encounters an error?\n",
    "\n",
    "Solution : if we do not want our program to crash, we need to handle the error which could be                done by placing the code inside a 'try' block.\n"
   ]
  },
  {
   "cell_type": "markdown",
   "id": "b47ac6b8",
   "metadata": {},
   "source": [
    "##### Question 14. What is the purpose of the try clause? What is the purpose of the except clause?\n",
    "\n",
    "Solution : \n",
    "\n",
    "purpose of try block is to make our program safe from crashing. If even an error                  occurs ( except syntax errors ), the program will not crash, despite the flow would be            sent to except block.\n",
    "\n",
    "and hence function of except block is to handle the error."
   ]
  }
 ],
 "metadata": {
  "kernelspec": {
   "display_name": "Python 3 (ipykernel)",
   "language": "python",
   "name": "python3"
  },
  "language_info": {
   "codemirror_mode": {
    "name": "ipython",
    "version": 3
   },
   "file_extension": ".py",
   "mimetype": "text/x-python",
   "name": "python",
   "nbconvert_exporter": "python",
   "pygments_lexer": "ipython3",
   "version": "3.7.7"
  }
 },
 "nbformat": 4,
 "nbformat_minor": 5
}
