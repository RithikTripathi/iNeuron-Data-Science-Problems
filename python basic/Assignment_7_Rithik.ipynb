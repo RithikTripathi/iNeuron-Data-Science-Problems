{
 "cells": [
  {
   "cell_type": "markdown",
   "id": "a1480d11",
   "metadata": {},
   "source": [
    "1. What is the name of the feature responsible for generating Regex objects?\n",
    "\n",
    "Solution : \n",
    "        \n",
    "        re.compile() is responsible for generating regex objects"
   ]
  },
  {
   "cell_type": "code",
   "execution_count": null,
   "id": "ee870aae",
   "metadata": {},
   "outputs": [],
   "source": []
  },
  {
   "cell_type": "markdown",
   "id": "c51d59ad",
   "metadata": {},
   "source": [
    "2. Why do raw strings often appear in Regex objects?\n",
    "\n",
    "Solution :\n",
    "    \n",
    "        Raw strings are created by using r / R as a prefix in any string, and these are used so that on the string,         backslash (/) is not considered as an escape character."
   ]
  },
  {
   "cell_type": "code",
   "execution_count": null,
   "id": "c736bd5b",
   "metadata": {},
   "outputs": [],
   "source": []
  },
  {
   "cell_type": "markdown",
   "id": "df34bb5d",
   "metadata": {},
   "source": [
    "3. What is the return value of the search() method?\n",
    "\n",
    "Solution : \n",
    "\n",
    "        re.search() is used to search a pattern in a string, it returns the object matched or if nothing matched, then none is returned.\n",
    "      "
   ]
  },
  {
   "cell_type": "code",
   "execution_count": null,
   "id": "7fa00b53",
   "metadata": {},
   "outputs": [],
   "source": []
  },
  {
   "cell_type": "markdown",
   "id": "ced5e548",
   "metadata": {},
   "source": [
    "4. From a Match item, how do you get the actual strings that match the pattern?\n",
    "\n",
    "Solution : \n",
    "    \n",
    "        a python group() can be used fot this purpose"
   ]
  },
  {
   "cell_type": "code",
   "execution_count": null,
   "id": "87147837",
   "metadata": {},
   "outputs": [],
   "source": []
  },
  {
   "cell_type": "markdown",
   "id": "b7b4d83e",
   "metadata": {},
   "source": [
    "5. In the regex which created from the r'(\\d\\d\\d)-(\\d\\d\\d-\\d\\d\\d\\d)', what does group zero cover? Group 2? Group 1?\n",
    "\n",
    "Solution : \n",
    "\n",
    "        Group 0 : entire match case : (\\d\\d\\d)-(\\d\\d\\d-\\d\\d\\d\\d)\n",
    "        Group 1 : first set in ( )  : (\\d\\d\\d)\n",
    "        Group 2 : second set in ( ) : (\\d\\d\\d-\\d\\d\\d\\d) "
   ]
  },
  {
   "cell_type": "code",
   "execution_count": null,
   "id": "e3c6f2c5",
   "metadata": {},
   "outputs": [],
   "source": []
  },
  {
   "cell_type": "markdown",
   "id": "c8bcd84e",
   "metadata": {},
   "source": [
    "6. In standard expression syntax, parentheses and intervals have distinct meanings. How can you tell a regex that you want it to fit real parentheses and periods?\n",
    "\n",
    "Solution : \n",
    "\n",
    "        For using keywords , characters which have separate default meaning, we can use escape characters to consider them as a character and not a keyword.\n",
    "        \n",
    "        eg : \\.     \\("
   ]
  },
  {
   "cell_type": "code",
   "execution_count": null,
   "id": "421854ef",
   "metadata": {},
   "outputs": [],
   "source": []
  },
  {
   "cell_type": "markdown",
   "id": "ebe7cb5d",
   "metadata": {},
   "source": [
    "7. The findall() method returns a string list or a list of string tuples. What causes it to return one of the two options?\n",
    "\n",
    "Solution : \n",
    "\n",
    "        the return of findall() depends upon the number of groups being searched for : \n",
    "                \n",
    "                if regex has no group / 1 group : returns a list of string\n",
    "                if regex has multiple groups    : returns a list of string tuples"
   ]
  },
  {
   "cell_type": "code",
   "execution_count": null,
   "id": "03589e10",
   "metadata": {},
   "outputs": [],
   "source": []
  },
  {
   "cell_type": "markdown",
   "id": "84427428",
   "metadata": {},
   "source": [
    "8. In standard expressions, what does the | character mean?\n",
    "\n",
    "Solution : \n",
    "\n",
    "        | signifies or . it is similar to boolean or operation"
   ]
  },
  {
   "cell_type": "markdown",
   "id": "632b3bf2",
   "metadata": {},
   "source": [
    "9. In regular expressions, what does the character stand for?\n",
    "\n",
    "NOTE : Question Incomplete : Character Not Given"
   ]
  },
  {
   "cell_type": "code",
   "execution_count": null,
   "id": "0fd7b81e",
   "metadata": {},
   "outputs": [],
   "source": []
  },
  {
   "cell_type": "markdown",
   "id": "939d3fc8",
   "metadata": {},
   "source": [
    "10.In regular expressions, what is the difference between the + and * characters?\n",
    "\n",
    "Solution : \n",
    "\n",
    "        * => character must appear zero or more times\n",
    "        + => character must appear one or more times"
   ]
  },
  {
   "cell_type": "code",
   "execution_count": null,
   "id": "c04d86c4",
   "metadata": {},
   "outputs": [],
   "source": []
  },
  {
   "cell_type": "markdown",
   "id": "9d3dd425",
   "metadata": {},
   "source": [
    "11. What is the difference between {4} and {4,5} in regular expression?\n",
    "\n",
    "Solution : \n",
    "\n",
    "        {3}    : matches for exactly 3 number of occurences\n",
    "        {4,5}  : matches for occurences between 4 and 5 (both included)"
   ]
  },
  {
   "cell_type": "code",
   "execution_count": null,
   "id": "ec26d2bd",
   "metadata": {},
   "outputs": [],
   "source": []
  },
  {
   "cell_type": "markdown",
   "id": "96adf767",
   "metadata": {},
   "source": [
    "12. What do you mean by the \\d, \\w, and \\s shorthand character classes signify in regular expressions?\n",
    "\n",
    "Solution : \n",
    "\n",
    "        \\d : returns the matching result if string contains digits ( 0 to 9 )\n",
    "        \\w : returns the matching result if string contains a to z , A to Z, 0 to 9 and _\n",
    "        \\s : returns the matching result if the string containns a white space"
   ]
  },
  {
   "cell_type": "code",
   "execution_count": null,
   "id": "a18312eb",
   "metadata": {},
   "outputs": [],
   "source": []
  },
  {
   "cell_type": "markdown",
   "id": "bda28a3f",
   "metadata": {},
   "source": [
    "13. What do means by \\D, \\W, and \\S shorthand character classes signify in regular expressions?\n",
    "\n",
    "Solution : \n",
    "\n",
    "        \\D : returns if match does not contains any digit\n",
    "        \\W : returns if match does not contains any characters aA to zZ , 0 to 9, _\n",
    "        \\S : returns if match does not contains any white spaces\n",
    "\n",
    "        "
   ]
  },
  {
   "cell_type": "code",
   "execution_count": null,
   "id": "81ee4b5a",
   "metadata": {},
   "outputs": [],
   "source": []
  },
  {
   "cell_type": "markdown",
   "id": "c9a5560f",
   "metadata": {},
   "source": [
    "14. What is the difference between .*? and .*?\n",
    "\n",
    "Solution : \n",
    "\n",
    "        A.*Z will try to match as many as possible : Greedy match\n",
    "        A.*?Z will try to match as few as possible : non Greedy match"
   ]
  },
  {
   "cell_type": "code",
   "execution_count": null,
   "id": "89fcd5b5",
   "metadata": {},
   "outputs": [],
   "source": []
  },
  {
   "cell_type": "markdown",
   "id": "83d1e6d0",
   "metadata": {},
   "source": [
    "15. What is the syntax for matching both numbers and lowercase letters with a character class?\n",
    "\n",
    "Solution  : \n",
    "\n",
    "        regex which could be used is : [a-z0-9]"
   ]
  },
  {
   "cell_type": "code",
   "execution_count": null,
   "id": "cbd2e4f1",
   "metadata": {},
   "outputs": [],
   "source": []
  },
  {
   "cell_type": "markdown",
   "id": "5c792fa6",
   "metadata": {},
   "source": [
    "16. What is the procedure for making a normal expression in regax case insensitive?\n",
    "\n",
    "Solution : \n",
    "\n",
    "        argument re.IGNORECASE would make the regex go insensitive for case matching"
   ]
  },
  {
   "cell_type": "code",
   "execution_count": null,
   "id": "ded00a98",
   "metadata": {},
   "outputs": [],
   "source": []
  },
  {
   "cell_type": "markdown",
   "id": "3c22440e",
   "metadata": {},
   "source": [
    "17. What does the . character normally match? What does it match if re.DOTALL is passed as 2nd argument in re.compile()?\n",
    "\n",
    "Solution : \n",
    "\n",
    "        . character in regex normally matches any character except a newline.\n",
    "        but if re.DOTALL is massed as an 2nd argument, . will match all characterrs including newline"
   ]
  },
  {
   "cell_type": "code",
   "execution_count": null,
   "id": "1b669c05",
   "metadata": {},
   "outputs": [],
   "source": []
  },
  {
   "cell_type": "markdown",
   "id": "c20ee3af",
   "metadata": {},
   "source": [
    "18. If numReg = re.compile(r'\\d+'), what will numRegex.sub('X', '11 drummers, 10 pipers, five rings, 4 hen') return?\n",
    "\n",
    "Solution : \n",
    "\n",
    "        \\d matches any single character which is a digit, the sub() function replaces all digit characters\n",
    "        \n",
    "        => 'X drummers, X pipers, five rings, X hens'"
   ]
  },
  {
   "cell_type": "code",
   "execution_count": null,
   "id": "f4d60e56",
   "metadata": {},
   "outputs": [],
   "source": []
  },
  {
   "cell_type": "markdown",
   "id": "0cf7c21f",
   "metadata": {},
   "source": [
    "19. What does passing re.VERBOSE as the 2nd argument to re.compile() allow to do?\n",
    "\n",
    "Solution : \n",
    "\n",
    "        re.VERBOSE() enables us to add whitespaces and comments to the regex which makes code more readable"
   ]
  },
  {
   "cell_type": "code",
   "execution_count": null,
   "id": "f9149a27",
   "metadata": {},
   "outputs": [],
   "source": []
  },
  {
   "cell_type": "markdown",
   "id": "05528650",
   "metadata": {},
   "source": [
    "20. How would you write a regex that match a number with comma for every three digits? It must match the given following:\n",
    "\n",
    "\n",
    "\n",
    "    '42'\n",
    "    '1,234'\n",
    "    '6,368,745'\n",
    "    but not the following:\n",
    "    '12,34,567' (which has only two digits between the commas)\n",
    "    '1234' (which lacks commas)\n",
    "\n",
    "\n",
    "Solution : \n",
    "\n",
    "            re.compile(r'^\\d{1,3}(,\\d{3})*$') "
   ]
  },
  {
   "cell_type": "code",
   "execution_count": null,
   "id": "f693b56e",
   "metadata": {},
   "outputs": [],
   "source": []
  },
  {
   "cell_type": "markdown",
   "id": "cff5da80",
   "metadata": {},
   "source": [
    "21. How would you write a regex that matches the full name of someone whose last name is Watanabe? You can assume that the first name that comes before it will always be one word that begins with a capital letter. The regex must match the following:\n",
    "\n",
    "\n",
    "    'Haruto Watanabe'\n",
    "    'Alice Watanabe'\n",
    "    'RoboCop Watanabe'\n",
    "    but not the following:\n",
    "    'haruto Watanabe' (where the first name is not capitalized)\n",
    "    'Mr. Watanabe' (where the preceding word has a nonletter character)\n",
    "    'Watanabe' (which has no first name)\n",
    "    'Haruto watanabe' (where Watanabe is not capitalized)\n",
    "\n",
    "    \n",
    "Solution : \n",
    "    \n",
    "            \n",
    "        re.compile(r'[A-Z][a-z]*\\sNakamoto')"
   ]
  },
  {
   "cell_type": "code",
   "execution_count": null,
   "id": "bff447e0",
   "metadata": {},
   "outputs": [],
   "source": []
  },
  {
   "cell_type": "markdown",
   "id": "655f16c3",
   "metadata": {},
   "source": [
    "22. How would you write a regex that matches a sentence where the first word is either Alice, Bob, or Carol; the second word is either eats, pets, or throws; the third word is apples, cats, or baseballs; and the sentence ends with a period? This regex should be case-insensitive. It must match the following:\n",
    "\n",
    "    \n",
    "    'Alice eats apples.'\n",
    "    'Bob pets cats.'\n",
    "    'Carol throws baseballs.'\n",
    "    'Alice throws Apples.'\n",
    "    'BOB EATS CATS.'\n",
    "    but not the following:\n",
    "    'RoboCop eats apples.'\n",
    "    'ALICE THROWS FOOTBALLS.'\n",
    "    'Carol eats 7 cats.'\n",
    "    \n",
    "Solution : \n",
    "    \n",
    "            re.compile(r'(Alice|Bob|Carol)\\s(eats|pets|throws)\\s(apples|cats|baseballs)\\.', re.IGNORECASE)\n"
   ]
  },
  {
   "cell_type": "code",
   "execution_count": null,
   "id": "829dd6a4",
   "metadata": {},
   "outputs": [],
   "source": []
  }
 ],
 "metadata": {
  "kernelspec": {
   "display_name": "Python 3 (ipykernel)",
   "language": "python",
   "name": "python3"
  },
  "language_info": {
   "codemirror_mode": {
    "name": "ipython",
    "version": 3
   },
   "file_extension": ".py",
   "mimetype": "text/x-python",
   "name": "python",
   "nbconvert_exporter": "python",
   "pygments_lexer": "ipython3",
   "version": "3.7.7"
  }
 },
 "nbformat": 4,
 "nbformat_minor": 5
}
