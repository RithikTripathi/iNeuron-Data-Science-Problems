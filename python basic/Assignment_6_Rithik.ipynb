{
 "cells": [
  {
   "cell_type": "markdown",
   "id": "d3460081",
   "metadata": {},
   "source": [
    "1. What are escape characters, and how do you use them?\n",
    "\n",
    "Solution :  Escape characters are used to insert sich characters in a string which would be considered illegal or are usually considered as keyword while entering characters.\n",
    "\n",
    "    example : 'Hello my name's Rithik'\n",
    "    now here, the string looks like : 'Hello my name'  => because string apostophe closes\n",
    "    \n",
    "    here comes escape characters come to use\n",
    "    \n",
    "    if we use \\ (i.e escape character), then the immidiate next character used after / would be considered as a character and not a keyword\n",
    "    \n",
    "    eg: 'Hello my name\\'s Rithik'\n",
    "    \n",
    "========================================================================================================================"
   ]
  },
  {
   "cell_type": "markdown",
   "id": "413a02a2",
   "metadata": {},
   "source": [
    "2. What do the escape characters n and t stand for?\n",
    "\n",
    "Solution : escape characters \n",
    "\n",
    "        \\n : used for new line\n",
    "        \n",
    "        \\t : used for Tab \n",
    "        \n",
    "========================================================================================================================"
   ]
  },
  {
   "cell_type": "markdown",
   "id": "f74bdf25",
   "metadata": {},
   "source": [
    "3. What is the way to include backslash characters in a string?\n",
    "\n",
    "Solution : \n",
    "\n",
    "using concept of escape characters, we can print backslash.\n",
    "\n",
    "        i.e : \\\\\n",
    "========================================================================================================================"
   ]
  },
  {
   "cell_type": "markdown",
   "id": "6f6d2222",
   "metadata": {},
   "source": [
    "4. The string \"Howl's Moving Castle\" is a correct value. Why isn't the single quote character in the word Howl's not escaped a problem?\n",
    "\n",
    "Solution : \n",
    "\n",
    "The single quote character didn't produced any error because double quotes ( \" ) are used to start the string and hence only \" would mark the end of the string\n",
    "\n",
    "========================================================================================================================"
   ]
  },
  {
   "cell_type": "markdown",
   "id": "d557e6da",
   "metadata": {},
   "source": [
    "5. How do you write a string of newlines if you don't want to use the n character?\n",
    "Solution : \n",
    "\n",
    "    We can use \"\"\"  \"\"\" (triple quotes) to start and end the string, it saves the string with all the new lines, tabs , etc\n",
    "\n",
    "eg:"
   ]
  },
  {
   "cell_type": "code",
   "execution_count": 8,
   "id": "b3523fe3",
   "metadata": {},
   "outputs": [
    {
     "name": "stdout",
     "output_type": "stream",
     "text": [
      "this is first line\n",
      "this is second line\n",
      "this is third line\n"
     ]
    }
   ],
   "source": [
    "text = \"\"\"this is first line\n",
    "this is second line\n",
    "this is third line\"\"\"\n",
    "\n",
    "print(text)"
   ]
  },
  {
   "cell_type": "markdown",
   "id": "4ad67170",
   "metadata": {},
   "source": [
    "========================================================================================================================"
   ]
  },
  {
   "cell_type": "markdown",
   "id": "36609b4f",
   "metadata": {},
   "source": [
    "6. What are the values of the given expressions?\n",
    "\n",
    "Solution :\n",
    "\n",
    "    'Hello, world!'[1]      => 'e'\n",
    "    'Hello, world!'[0:5]    => 'Hello'\n",
    "    'Hello, world!'[:5]     => 'Hello'\n",
    "    'Hello, world!'[3:]     => 'lo, world!'\n"
   ]
  },
  {
   "cell_type": "markdown",
   "id": "ba4a004b",
   "metadata": {},
   "source": [
    "========================================================================================================================"
   ]
  },
  {
   "cell_type": "markdown",
   "id": "c655b5fa",
   "metadata": {},
   "source": [
    "7. What are the values of the following expressions?\n",
    "\n",
    "Solution :\n",
    "    \n",
    "    'Hello'.upper()             => 'HELLO'\n",
    "    'Hello'.upper().isupper()   => False\n",
    "    'Hello'.upper().lower()     => 'hello'\n"
   ]
  },
  {
   "cell_type": "markdown",
   "id": "334b6073",
   "metadata": {},
   "source": [
    "========================================================================================================================"
   ]
  },
  {
   "cell_type": "markdown",
   "id": "8f0ee592",
   "metadata": {},
   "source": [
    "8. What are the values of the following expressions?\n",
    "\n",
    "Solution : \n",
    "\n",
    "    'Remember, remember, the fifth of July.'.split()\n",
    "            => ['Remember,', 'remember,', 'the', 'fifth', 'of', 'November.']\n",
    "            \n",
    "            \n",
    "    '-'.join('There can only one.'.split())\n",
    "            => 'There-can-only-one.'"
   ]
  },
  {
   "cell_type": "markdown",
   "id": "f3b9f557",
   "metadata": {},
   "source": [
    "========================================================================================================================"
   ]
  },
  {
   "cell_type": "markdown",
   "id": "e9c88ca7",
   "metadata": {},
   "source": [
    "9. What are the methods for right-justifying, left-justifying, and centering a string?\n",
    "\n",
    "Solution : \n",
    "\n",
    "        right justifying : rjust()\n",
    "        left justifying  : ljust()\n",
    "        centering        : center()"
   ]
  },
  {
   "cell_type": "markdown",
   "id": "a2dab85f",
   "metadata": {},
   "source": [
    "========================================================================================================================"
   ]
  },
  {
   "cell_type": "markdown",
   "id": "aa326e97",
   "metadata": {},
   "source": [
    "10. What is the best way to remove whitespace characters from the start or end?\n",
    "\n",
    "Solution : \n",
    "\n",
    "        python strip() could be used to be default remove whitespaces from start and end. also, lstrip() and rstrip() could be used to remove whitespaces from left and right of a string respectively"
   ]
  }
 ],
 "metadata": {
  "kernelspec": {
   "display_name": "Python 3 (ipykernel)",
   "language": "python",
   "name": "python3"
  },
  "language_info": {
   "codemirror_mode": {
    "name": "ipython",
    "version": 3
   },
   "file_extension": ".py",
   "mimetype": "text/x-python",
   "name": "python",
   "nbconvert_exporter": "python",
   "pygments_lexer": "ipython3",
   "version": "3.7.7"
  }
 },
 "nbformat": 4,
 "nbformat_minor": 5
}
