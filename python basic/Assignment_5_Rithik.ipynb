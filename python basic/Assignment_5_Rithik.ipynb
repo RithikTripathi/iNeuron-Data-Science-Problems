{
 "cells": [
  {
   "cell_type": "markdown",
   "id": "653bd3f6",
   "metadata": {},
   "source": [
    "##### 1. What does an empty dictionary's code look like?\n",
    "\n",
    " dict1 = { }\n",
    " \n",
    " empty dictionary would just contain two curly brackets"
   ]
  },
  {
   "cell_type": "markdown",
   "id": "e1a803bd",
   "metadata": {},
   "source": [
    "##### 2. What is the value of a dictionary value with the key 'foo' and the value 42?\n",
    "\n",
    "{ 'foo' : 42 }"
   ]
  },
  {
   "cell_type": "markdown",
   "id": "4f470e8d",
   "metadata": {},
   "source": [
    "##### 3. What is the most significant distinction between a dictionary and a list?\n",
    "\n",
    "list is a data structure which stores data structure as comma separated values\n",
    "\n",
    "whereas\n",
    "\n",
    "dictionary is a data structure which stores values as a key value pair"
   ]
  },
  {
   "cell_type": "markdown",
   "id": "ea732eee",
   "metadata": {},
   "source": [
    "##### 4. What happens if you try to access spam['foo'] if spam is {'bar': 100}?\n",
    "\n",
    "code will raise a KeyError as the key 'foo' is not present in the dictionary"
   ]
  },
  {
   "cell_type": "markdown",
   "id": "767fb565",
   "metadata": {},
   "source": [
    "##### 5. If a dictionary is stored in spam, what is the difference between the expressions 'cat' in spam and 'cat' in spam.keys()?\n",
    "\n",
    "both 'cat' in spam & 'cat' in spam.keys() are Same "
   ]
  },
  {
   "cell_type": "markdown",
   "id": "02af9d3f",
   "metadata": {},
   "source": [
    "##### 6. If a dictionary is stored in spam, what is the difference between the expressions 'cat' in spam and 'cat' in spam.values()?\n",
    "\n",
    "as dictionary consists of keys and values, 'cat' in spam means searching for cat in only the 'key' pairs, whereas 'cat' in spam.values() means searching for 'cat' in only the 'value' pairs"
   ]
  },
  {
   "cell_type": "markdown",
   "id": "36869e40",
   "metadata": {},
   "source": [
    "##### 7. What is a shortcut for the following code?\n",
    "##### if 'color' not in spam:\n",
    "##### spam['color'] = 'black'\n",
    "\n",
    "we could make black as the default color by using setdefault()\n",
    "> spam.setdefault('color', 'black')"
   ]
  },
  {
   "cell_type": "markdown",
   "id": "5d86ece4",
   "metadata": {},
   "source": [
    "##### 8. How do you \"pretty print\" dictionary values using which module and function?\n",
    "\n",
    "in order to pretty print a data structure, pprint library is used\n",
    "> pprint.pprint()"
   ]
  }
 ],
 "metadata": {
  "kernelspec": {
   "display_name": "Python 3 (ipykernel)",
   "language": "python",
   "name": "python3"
  },
  "language_info": {
   "codemirror_mode": {
    "name": "ipython",
    "version": 3
   },
   "file_extension": ".py",
   "mimetype": "text/x-python",
   "name": "python",
   "nbconvert_exporter": "python",
   "pygments_lexer": "ipython3",
   "version": "3.7.7"
  }
 },
 "nbformat": 4,
 "nbformat_minor": 5
}
