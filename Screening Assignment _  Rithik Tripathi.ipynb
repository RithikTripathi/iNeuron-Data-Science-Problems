{
 "cells": [
  {
   "cell_type": "markdown",
   "id": "bbea0d8a",
   "metadata": {},
   "source": [
    "Name : Rithik Tripathi"
   ]
  },
  {
   "cell_type": "code",
   "execution_count": null,
   "id": "831d1b79",
   "metadata": {},
   "outputs": [],
   "source": []
  },
  {
   "cell_type": "markdown",
   "id": "f9f1e255",
   "metadata": {},
   "source": [
    "### 1. Create a function in python to read the text file and replace specific content of the file."
   ]
  },
  {
   "cell_type": "code",
   "execution_count": null,
   "id": "cf9ccba2",
   "metadata": {},
   "outputs": [],
   "source": [
    "# Text to find in the file\n",
    "Find = input('Text to Find : ')\n",
    "# Text to Replace with in the file\n",
    "Replace = input('Text to Replace with : ')\n",
    "\n",
    "# defining the specific file on which Find & Replace would be performed\n",
    "file = 'data.txt'\n",
    "\n",
    "print('Finding data in ' + file + ' File')\n",
    "\n",
    "# opening file for both reading and writing (r+)\n",
    "with open(file,'r+') as file:\n",
    "    # reading data\n",
    "    data = file.read()\n",
    "    # seeking the pointer to initial position (0) in file\n",
    "    file.seek(0)\n",
    "    # Count to check how many entried have been replaced\n",
    "    replacedCount = 0\n",
    "    replacedCount = data.count(Find)\n",
    "    # replacing data\n",
    "    data = data.replace(Find, Replace)\n",
    "    # writing the final data in same file\n",
    "    file.write(data)  \n",
    "    print('Total %d Records Replaced Successfully' %replacedCount  )"
   ]
  },
  {
   "cell_type": "markdown",
   "id": "e1cbdd6a",
   "metadata": {},
   "source": [
    "### 2.  Demonstrate use of abstract class, multiple inheritance and decorator in python using examples."
   ]
  },
  {
   "cell_type": "markdown",
   "id": "8d058622",
   "metadata": {},
   "source": [
    "### Abstract Class"
   ]
  },
  {
   "cell_type": "markdown",
   "id": "c8eb2616",
   "metadata": {},
   "source": [
    "> method inside a class which only has a declration but not a definition are called `Abstract methods`\n",
    "\n",
    "> and a class having Abstract methods is called `Abstract Class`\n",
    "\n",
    ">Note : we can not create a object of a abstract class\n",
    "\n",
    "> In python, Abstract logic is not directly supported. But we can use a module in order to define abstract classes which is ABC (abstract base class)"
   ]
  },
  {
   "cell_type": "markdown",
   "id": "d0064ef1",
   "metadata": {},
   "source": [
    "Explanation of below mentioned example : \n",
    "\n",
    "> here we have 2 type of employees, one ***Full Time*** and another ***Intern***. What we want is company can hire **Interns without Experience** but **Full Time employees should  necessarily have Experience***\n",
    "\n",
    "Anuj is an Intern whereas Rithik here is a Full Time Employee \n",
    "\n",
    "> so we made a `Abstract Class : fullTimeEmployee` and inherited it into our Rithik Class."
   ]
  },
  {
   "cell_type": "code",
   "execution_count": null,
   "id": "52509d63",
   "metadata": {},
   "outputs": [],
   "source": [
    "# importing module to implement Abstract Class\n",
    "from abc import ABC, abstractmethod\n",
    "\n",
    "# defining a Abstract method and class\n",
    "class fullTimeEmployee(ABC):\n",
    "    @abstractmethod\n",
    "    def employeeExperience(self):\n",
    "        pass\n",
    "    \n",
    "# intern    \n",
    "class Anuj():\n",
    "    \n",
    "    employementType = \"Intern\"\n",
    "    department = \"Machine Learning\"\n",
    "    sub_department = \"Deductions\"\n",
    "    monthlySalary = 15000\n",
    "    \n",
    "# full time employee\n",
    "class Rithik(fullTimeEmployee):\n",
    "\n",
    "    employementType = \"Full Time\"\n",
    "    department = \"Machine Learning\"\n",
    "    sub_department = \"Collections\"\n",
    "    monthlySalary = 105000"
   ]
  },
  {
   "cell_type": "markdown",
   "id": "f6596e2f",
   "metadata": {},
   "source": [
    "> we can below see that if we try to make a instance of Rithik class ( FTE ), that won't be possible without defining Experience"
   ]
  },
  {
   "cell_type": "code",
   "execution_count": null,
   "id": "80167cc2",
   "metadata": {},
   "outputs": [],
   "source": [
    "objectX = fullTimeEmployee()"
   ]
  },
  {
   "cell_type": "code",
   "execution_count": null,
   "id": "acb36292",
   "metadata": {},
   "outputs": [],
   "source": [
    "# importing module to implement Abstract Class\n",
    "from abc import ABC, abstractmethod\n",
    "\n",
    "class fullTimeEmployee(ABC):\n",
    "    @abstractmethod\n",
    "    def employeeExperience(self):\n",
    "        pass\n",
    "\n",
    "# intern    \n",
    "class Anuj():\n",
    "    \n",
    "    employementType = \"Intern\"\n",
    "    department = \"Machine Learning\"\n",
    "    sub_department = \"Deductions\"\n",
    "    monthlySalary = 15000\n",
    "    \n",
    "# full time employee    \n",
    "class Rithik(fullTimeEmployee):\n",
    "    \n",
    "    # experience mentioned\n",
    "    def employeeExperience():\n",
    "        return 3\n",
    "\n",
    "    experience = employeeExperience()\n",
    "    employementType = \"Full Time\"\n",
    "    department = \"Machine Learning\"\n",
    "    sub_department = \"Collections\"\n",
    "    monthlySalary = experience * 35000\n"
   ]
  },
  {
   "cell_type": "markdown",
   "id": "3e318586",
   "metadata": {},
   "source": [
    ">  now as experience has been mentioned which was made a necessity by abstract method, now we can proceed and make instances"
   ]
  },
  {
   "cell_type": "code",
   "execution_count": null,
   "id": "5745a454",
   "metadata": {},
   "outputs": [],
   "source": [
    "x = Rithik()\n",
    "x.monthlySalary"
   ]
  },
  {
   "cell_type": "code",
   "execution_count": null,
   "id": "84ad46b7",
   "metadata": {},
   "outputs": [],
   "source": []
  },
  {
   "cell_type": "markdown",
   "id": "2b18aee6",
   "metadata": {},
   "source": [
    "### Multiple Inheritacne"
   ]
  },
  {
   "cell_type": "markdown",
   "id": "00252a69",
   "metadata": {},
   "source": [
    "> here we have 2 main classes `salary` and `department`, Rithik is a class holding information for a Full Time Employee and only a FTE should be alllowed to access the company details. And as Rithik class is inheriting both the parent classes (Multiple Inheritance), It would be able to access."
   ]
  },
  {
   "cell_type": "code",
   "execution_count": 67,
   "id": "d84b008b",
   "metadata": {},
   "outputs": [],
   "source": [
    "class salary():\n",
    "    def getSalary(self, experience):\n",
    "        slry = experience * 35000\n",
    "        print(slry)\n",
    "    \n",
    "    def getBenefits(self, rating):\n",
    "        try:\n",
    "            if type(rating) == int:\n",
    "                if rating == 1:\n",
    "                    benefits = 3000\n",
    "                elif rating == 2:\n",
    "                    benefits = 9000\n",
    "                elif rating == 3:\n",
    "                    benefits = 15000\n",
    "                \n",
    "                return benefits\n",
    "        \n",
    "        except:\n",
    "            print('Employee Rating Not Available')\n",
    "        \n",
    "class department():\n",
    "    def getDepartment(self, code):\n",
    "        try:\n",
    "            if code == 1:\n",
    "                empDepartment = \"Machine Learning\"\n",
    "            elif code == 2:\n",
    "                empDepartment = \"Web Development\"\n",
    "            elif code == 3:\n",
    "                empDepartment = \"Product Management\"\n",
    "                \n",
    "            return empDepartment\n",
    "        \n",
    "        except:\n",
    "            print('code not under organization departments')\n",
    "        \n",
    "\n",
    "class Rithik(salary, department):\n",
    "    \n",
    "    def __init__(self):\n",
    "        self.employementType = \"Full Time\"\n",
    "    \n",
    "    def fetchDetails(self):\n",
    "        try:\n",
    "            if self.employementType == \"Full Time\" or self.employementType == \"Intern\":\n",
    "                    print('Welcome Team')\n",
    "                    print('What informatin to fetch : ')\n",
    "                    print('1: Salary \\n2: Benefits\\n3: Department')\n",
    "                    fetch = int(input())\n",
    "                    \n",
    "                    try:\n",
    "                        if fetch == 1:\n",
    "                            exp = int(input('Experience = '))\n",
    "                            super().getSalary(exp)\n",
    "                        elif fetch == 2:\n",
    "                            rtng = int(input('Rating = '))\n",
    "                            print(super().getBenefits(rtng))\n",
    "                        elif fetch == 3:\n",
    "                            cd = int(input('code = '))\n",
    "                            print(super().getDepartment( cd))\n",
    "\n",
    "                    except:\n",
    "                        print('Invalid Input')\n",
    "        except:\n",
    "            print('Access Denied : Confidential Information Ahead')\n",
    "\n",
    "\n",
    "class Anuj():\n",
    "    \n",
    "    def __init__(self):\n",
    "        self.employementType = \"Intern\"\n",
    "    \n",
    "    def fetchDetails(self):\n",
    "        try:\n",
    "            if self.employementType == \"Full Time\" or self.employementType == \"Intern\":\n",
    "                    print('Welcome Team')\n",
    "                    print('What informatin to fetch : ')\n",
    "                    print('1: Salary \\n2: Benefits\\n3: Department')\n",
    "                    fetch = int(input())\n",
    "                    \n",
    "                    try:\n",
    "                        if fetch == 1:\n",
    "                            exp = int(input('Experience = '))\n",
    "                            super().getSalary(exp)\n",
    "                        elif fetch == 2:\n",
    "                            rtng = int(input('Rating = '))\n",
    "                            print(super().getBenefits(rtng))\n",
    "                        elif fetch == 3:\n",
    "                            cd = int(input('code = '))\n",
    "                            print(super().getDepartment( cd))\n",
    "\n",
    "                    except:\n",
    "                        print('Invalid Input')\n",
    "        except:\n",
    "            print('Access Denied : Confidential Information Ahead')"
   ]
  },
  {
   "cell_type": "code",
   "execution_count": 46,
   "id": "e37d7330",
   "metadata": {},
   "outputs": [
    {
     "name": "stdout",
     "output_type": "stream",
     "text": [
      "Welcome Team\n",
      "What informatin to fetch : \n",
      "1: Salary \n",
      "2: Benefits\n",
      "3: Department\n",
      "3\n",
      "code = 2\n",
      "Web Development\n"
     ]
    }
   ],
   "source": [
    "x = Rithik()\n",
    "x.fetchDetails()"
   ]
  },
  {
   "cell_type": "markdown",
   "id": "2e397cc4",
   "metadata": {},
   "source": [
    "> also we could see as Anuj class is not inheriting the classes above, we can't access them and handled this case with exceptional handling"
   ]
  },
  {
   "cell_type": "code",
   "execution_count": 68,
   "id": "3370899d",
   "metadata": {},
   "outputs": [
    {
     "name": "stdout",
     "output_type": "stream",
     "text": [
      "Welcome Team\n",
      "What informatin to fetch : \n",
      "1: Salary \n",
      "2: Benefits\n",
      "3: Department\n",
      "1\n",
      "Experience = 2\n",
      "Invalid Input\n"
     ]
    }
   ],
   "source": [
    "y = Anuj()\n",
    "y.fetchDetails()"
   ]
  },
  {
   "cell_type": "markdown",
   "id": "d518ab14",
   "metadata": {},
   "source": [
    "### Decorator"
   ]
  },
  {
   "cell_type": "markdown",
   "id": "5b4d3bfd",
   "metadata": {},
   "source": [
    "> suppose if any function is a gift, decorator works as a wrapper\n",
    "\n",
    "> in easy words, it just takes the function, add some functionality inside it and returns it"
   ]
  },
  {
   "cell_type": "markdown",
   "id": "6755353e",
   "metadata": {},
   "source": [
    "making an demo of a `Loading Page` which shows multiple processes after some delay"
   ]
  },
  {
   "cell_type": "code",
   "execution_count": null,
   "id": "d700b4ba",
   "metadata": {},
   "outputs": [],
   "source": [
    "# to use delay in output\n",
    "from time import sleep\n",
    "\n",
    "def decorator(function):\n",
    "    def decorate():\n",
    "        print('Command Accepted')\n",
    "        sleep(1)\n",
    "        print('User Authenticated')\n",
    "        sleep(2)\n",
    "        print('Executing Code')\n",
    "        sleep(1)\n",
    "        print('Calculating all possible outcomes')\n",
    "        sleep(1)\n",
    "        print('Artificial Intellugence Invoked')\n",
    "        sleep(1)\n",
    "        print('Going Deep in Neural Network')\n",
    "        sleep(2)\n",
    "        for i in range(0,10):\n",
    "            print(\"... \",end='')\n",
    "            sleep(0.1)\n",
    "            print(\"... \",end='')\n",
    "        print('\\n')    \n",
    "        function()\n",
    "        \n",
    "        sleep(2)\n",
    "        print(\"Commant Executed Successfully\")\n",
    "        sleep(1)\n",
    "        print(\"System Shutting Down\")\n",
    "    return decorate()"
   ]
  },
  {
   "cell_type": "markdown",
   "id": "d04d795f",
   "metadata": {},
   "source": [
    "Decorating a funcion to find product of two integers"
   ]
  },
  {
   "cell_type": "code",
   "execution_count": null,
   "id": "51a20880",
   "metadata": {},
   "outputs": [],
   "source": [
    "\n",
    "def product():\n",
    "    x = int(input('Enter First Integer '))\n",
    "    y = int(input('Enter Second Integer' ))\n",
    "    print('Product of Integers X and Y is : ', x*y)\n",
    "\n",
    "decorator(product)"
   ]
  },
  {
   "cell_type": "markdown",
   "id": "03293dc8",
   "metadata": {},
   "source": [
    "> now the same step as done above can be directly done by using `decorators` directly as done below"
   ]
  },
  {
   "cell_type": "code",
   "execution_count": null,
   "id": "6440e1f3",
   "metadata": {},
   "outputs": [],
   "source": [
    "@decorator\n",
    "def product():\n",
    "    x = int(input('Enter First Integer '))\n",
    "    y = int(input('Enter Second Integer' ))\n",
    "    print('Product of Integers X and Y is : ', x*y)"
   ]
  },
  {
   "cell_type": "code",
   "execution_count": null,
   "id": "01beea97",
   "metadata": {},
   "outputs": [],
   "source": []
  }
 ],
 "metadata": {
  "kernelspec": {
   "display_name": "Python 3 (ipykernel)",
   "language": "python",
   "name": "python3"
  },
  "language_info": {
   "codemirror_mode": {
    "name": "ipython",
    "version": 3
   },
   "file_extension": ".py",
   "mimetype": "text/x-python",
   "name": "python",
   "nbconvert_exporter": "python",
   "pygments_lexer": "ipython3",
   "version": "3.9.7"
  }
 },
 "nbformat": 4,
 "nbformat_minor": 5
}
